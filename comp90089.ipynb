{
 "cells": [
  {
   "cell_type": "markdown",
   "id": "1aaadf1c-961b-4045-af19-068e7b6948d0",
   "metadata": {},
   "source": [
    "# 1. Datasets Requirement before Phenotyping\n",
    "## 1.1 Find all admission items having Scan Records\n",
    "### Neuroimaging/Vascularimaging\n",
    "* DWI MRI / MRA: Gold standard in Neuroimaging.\n",
    "* CT Scan: More available, maybe larger cohort, but not sensitive to early ischemic changes.\n",
    "* Plus CTA: Angiography helps guide treatments, often preferred in emergency stroke settings\n",
    "\n",
    "## 1.2 Or admission items by clinical phenotypes\n",
    "### 1.2.1 Clinical Assessment\n",
    "* NIHSS (National Institutes of Health Stroke Scale): Gold standard, assessment of consciousness, motor function, sensory function and language ability.\n",
    "* Start from Large Vessel Occulusions (LOVs)\n",
    "\n",
    "### 1.2.2 Stroke Risk Factors (Comorbidity)\n",
    "* High blood pressure (typically > 180 mmHg)\n",
    "* Atrial fibrillation\n",
    "* cholesterol levels\n",
    "* hyperlipidemia\n",
    "* diabetes\n",
    "\n",
    "## **Supporting Literature**:\n",
    "* 'Diagnostic accuracy of clinical tools for assessment of acute stroke: a systematic review' https://bmcemergmed.biomedcentral.com/articles/10.1186/s12873-019-0262-1\n",
    "* 'Comparative analysis, applications, and interpretation of electronic health record-based stroke phenotyping methods'\n",
    "https://biodatamining.biomedcentral.com/articles/10.1186/s13040-020-00230-x"
   ]
  },
  {
   "cell_type": "markdown",
   "id": "2a21d9b0-3350-411e-bf2d-0f5b7104c546",
   "metadata": {},
   "source": [
    "# 2. Cohort Extract Coding\n",
    "## 2.1 Phenotyping by ICD-9 codes of stroke & NIHSS Clinical assessment\n",
    "### 2.1.1 NIHSS Score\n",
    "* Table: `chartevents`\n",
    "* Itemid for NIHSS score: Search for this based on clinical charting of NIHSS scores or documented neurological exams in clinical notes.\n",
    "* Criteria: Use NIHSS ≥ 6 to identify patients likely to have LVOs.\n",
    "\n",
    "### 2.1.2 Clinical Notes of vital signs\n",
    "* Table: `chartevents`\n",
    "* Criteria: Use Natural Language Processing (NLP) to search for terms related to *aphasia*, *neglect*, and *hemiparesis* etc. in the clinical notes, particularly in discharge summaries or neurological exams.\n",
    "\n",
    "## 2.2 Lab Results for Stroke Risk Factors (Weak)\n",
    "* Table: `lab_event`\n",
    "* **LDL cholesterol (50931)** and **HDL cholesterol (50924)** are markers of atherosclerosis.\n",
    "**Blood glucose (50809)** and HbA1c levels are useful for identifying diabetic patients at higher stroke risk.\n",
    "\n",
    "## 2.3 Diagnostics of Risk Factors (For features)\n",
    "* Table: `diagnostic_icd`\n",
    "* Criteria: ICD-10 codes like I48.0 for *Atrial fibrillation*, G45.9 for TIA, I10 for Hypertension, E11 for Type2 Diabetes and E78 for Hyperlipidemia."
   ]
  },
  {
   "cell_type": "markdown",
   "id": "afea133e-76f2-47ed-be93-c4b9c856edd5",
   "metadata": {},
   "source": [
    "## Environment setting and libraries import\n",
    "* Install libraries required for BigQuery and data accessing"
   ]
  },
  {
   "cell_type": "code",
   "execution_count": 1,
   "id": "697b81c8-708a-4d8c-aa68-5db0fcfe37bf",
   "metadata": {},
   "outputs": [],
   "source": [
    "import pandas as pd\n",
    "from pandas_gbq import read_gbq\n",
    "import os\n",
    "from google.cloud import bigquery"
   ]
  },
  {
   "cell_type": "code",
   "execution_count": 2,
   "id": "13989113-c980-4c1c-bd86-34286aedc77c",
   "metadata": {},
   "outputs": [],
   "source": [
    "client = bigquery.Client(location=\"US\")"
   ]
  },
  {
   "cell_type": "markdown",
   "id": "74411ebb-516e-47d2-98e8-1302461a9cca",
   "metadata": {},
   "source": [
    "* Link to my Google Service Account key so that the MIMIC database can be accessed via\n",
    "BigQuery.\n",
    "\n",
    "* By using Google Colab, the account can be easily authenciated by auth module."
   ]
  },
  {
   "cell_type": "markdown",
   "id": "e7ee0f1e-b493-4470-b772-15e612f5cef6",
   "metadata": {},
   "source": [
    "## Query function for BigQuery\n",
    "* Get ready for accessing data via query API\n",
    "* Set the parameters required for BigQuery"
   ]
  },
  {
   "cell_type": "code",
   "execution_count": 3,
   "id": "a65f37e1-da75-4d0e-bfe3-6aa6c4b876cb",
   "metadata": {},
   "outputs": [],
   "source": [
    "# Set up environment variables\n",
    "project_id = 'comp90089-440404'\n",
    "\n",
    "# Read data from BigQuery into pandas dataframes\n",
    "def run_query(query, project_id=project_id):\n",
    "    return read_gbq(\n",
    "        query,\n",
    "        project_id=project_id,\n",
    "        dialect='standard'\n",
    "    )"
   ]
  },
  {
   "cell_type": "markdown",
   "id": "b9548dd6-0210-4003-a63e-d3a14c7b81eb",
   "metadata": {},
   "source": [
    "## Extracting Stroke Patients in ICU\n",
    "\n",
    "This SQL code identifies a group of patients who have been diagnosed with a stroke and were also admitted to the ICU. It specifically targets patients with ICD-9 codes related to stroke (433 and 434) and matches their records to ICU admissions, providing a list of these patients sorted by their unique identifiers."
   ]
  },
  {
   "cell_type": "code",
   "execution_count": 4,
   "id": "7ae374f6-43e0-4554-a155-e5f06028b1b6",
   "metadata": {},
   "outputs": [],
   "source": [
    "# SQL cod for extracting patients with all criterion\n",
    "query_isp=f\"\"\"\n",
    "WITH stroke_patients AS (\n",
    "  SELECT di.subject_id, di.hadm_id\n",
    "  FROM physionet-data.mimiciv_hosp.diagnoses_icd di\n",
    "  WHERE di.icd_version = 9 AND (di.icd_code LIKE '433%' OR di.icd_code LIKE '434%')\n",
    "),\n",
    "\n",
    "icu_stroke_patients AS (\n",
    "  SELECT DISTINCT sp.subject_id, sp.hadm_id\n",
    "  FROM stroke_patients sp\n",
    "  JOIN `physionet-data.mimiciv_icu.icustays` AS icustays\n",
    "    ON sp.subject_id = icustays.subject_id\n",
    "    AND sp.hadm_id = icustays.hadm_id\n",
    ")\n",
    "\n",
    "SELECT subject_id, hadm_id\n",
    "FROM icu_stroke_patients\n",
    "ORDER BY subject_id, hadm_id\n",
    "\"\"\""
   ]
  },
  {
   "cell_type": "code",
   "execution_count": 5,
   "id": "2af93dee-41af-4d0c-82ab-7a9ef860633e",
   "metadata": {},
   "outputs": [
    {
     "name": "stdout",
     "output_type": "stream",
     "text": [
      "Downloading: 100%|\u001b[32m██████████\u001b[0m|\n",
      "(2193, 2)\n"
     ]
    }
   ],
   "source": [
    "# Execute the query and fetch results\n",
    "df_isp = run_query(query_isp)\n",
    "\n",
    "# Display results\n",
    "print(df_isp.shape)"
   ]
  },
  {
   "cell_type": "markdown",
   "id": "3f30e756-f03e-4c52-8bfd-5284bee8983c",
   "metadata": {},
   "source": [
    "# 3. Feature Extracting\n",
    "15 features from the following 5 aspects are considered:\n",
    "* Demographics (**Age**, **Gender**, **Weight**, **Height**, **Infection**, **LoS**, **Admission**)\n",
    "* ICU Vital Signs (**BP**, **Heart Rate**, **Temperature**, **Respiratory Rate** )\n",
    "* Infections (**WBC Count**, **CRP Level**)\n",
    "* Lab Cardiovascular Tests (**CK-MB Component**, **Troponin T Level**)\n",
    "* Comorbidities (**Hypertension**, **Diabetes**, **Astrial Fibrillation**, **Charlson Index**)"
   ]
  },
  {
   "cell_type": "code",
   "execution_count": 6,
   "id": "7844d1a7-0798-445a-8f4d-72a9a01d33e2",
   "metadata": {},
   "outputs": [],
   "source": [
    "# subject_id and admission_id lists\n",
    "subject_ids = list(df_isp['subject_id'].unique())\n",
    "cohort_subject_ids = \"[\" + \", \".join(str(id) for id in subject_ids) + \"]\"\n",
    "\n",
    "hadm_ids=list(df_isp['hadm_id'].unique())\n",
    "cohort_hadm_ids = \"[\" + \", \".join(str(id) for id in hadm_ids) + \"]\""
   ]
  },
  {
   "cell_type": "markdown",
   "id": "f3dacf8b-5910-4d29-85a3-d5af46fafdfd",
   "metadata": {},
   "source": [
    "## 3.1 Demographics"
   ]
  },
  {
   "cell_type": "markdown",
   "id": "00f41ec0-c015-4228-ba1d-cc56a70022da",
   "metadata": {},
   "source": [
    "## Extracting Age and Gender for ICU Stroke Patients\n",
    "\n",
    "This retrieves age and gender details for ICU stroke patients, identified by `subject_ids`.\n"
   ]
  },
  {
   "cell_type": "code",
   "execution_count": 7,
   "id": "fb81b238-025b-4e1a-bff0-9df9eefd8f08",
   "metadata": {},
   "outputs": [],
   "source": [
    "query_gender_age=f\"\"\"\n",
    "WITH dmg_age AS (\n",
    "SELECT subject_id, anchor_age AS age\n",
    "FROM physionet-data.mimiciv_hosp.patients\n",
    "WHERE subject_id IN UNNEST ({cohort_subject_ids})\n",
    "),\n",
    "\n",
    "dmg_gender AS (\n",
    "SELECT subject_id,gender\n",
    "FROM physionet-data.mimiciv_hosp.patients\n",
    "WHERE subject_id IN UNNEST ({cohort_subject_ids})\n",
    ")\n",
    "\n",
    "SELECT dmg_age.subject_id, dmg_age.age, dmg_gender.gender\n",
    "FROM dmg_age\n",
    "LEFT JOIN dmg_gender ON dmg_age.subject_id = dmg_gender.subject_id\n",
    "ORDER BY dmg_age.subject_id\n",
    "\"\"\""
   ]
  },
  {
   "cell_type": "code",
   "execution_count": 8,
   "id": "eece818d-7a9f-4b4f-bd14-dbab278c9782",
   "metadata": {},
   "outputs": [
    {
     "name": "stdout",
     "output_type": "stream",
     "text": [
      "Downloading: 100%|\u001b[32m██████████\u001b[0m|\n"
     ]
    }
   ],
   "source": [
    "df_gender_age = run_query(query_gender_age)\n",
    "df_isp_cohort=df_isp.merge(df_gender_age, on='subject_id', how='left')"
   ]
  },
  {
   "cell_type": "markdown",
   "id": "5d55cd3b-247a-4683-8ad8-bf256087aa69",
   "metadata": {},
   "source": [
    "### Demographics-2: Weight and Height (average)"
   ]
  },
  {
   "cell_type": "markdown",
   "id": "e3d038e0-6857-4f4d-a123-8e185fd28bb3",
   "metadata": {},
   "source": [
    "* Itemid for Weight (Kg) in table `chartevents`: (226512(Admission Weight), 224639(Daily Weight))\n",
    "* Itemid for Height (cm) in table `chartevents`:226730"
   ]
  },
  {
   "cell_type": "code",
   "execution_count": 9,
   "id": "f58c5e2a-553a-4774-b142-e7bffcbf85ea",
   "metadata": {},
   "outputs": [],
   "source": [
    "query_wtht=f\"\"\"\n",
    "WITH\n",
    "dmg_weight AS (\n",
    "SELECT ie.hadm_id,\n",
    "  AVG(ce.valuenum) AS weight\n",
    "FROM ({query_isp}) ie\n",
    "-- admission weight\n",
    "LEFT JOIN`physionet-data.mimiciv_icu.chartevents` As ce\n",
    "  ON ie.hadm_id = ce.hadm_id AND itemid IN (226512, 224639)\n",
    "WHERE ce.valuenum IS NOT NULL\n",
    "GROUP BY ie.hadm_id\n",
    "),\n",
    "\n",
    "dmg_height AS (\n",
    "SELECT  isp.hadm_id,\n",
    "  MAX(ce.valuenum) AS height\n",
    "FROM ({query_isp}) isp\n",
    "-- admission height\n",
    "LEFT JOIN`physionet-data.mimiciv_icu.chartevents` As ce\n",
    "  ON isp.hadm_id = ce.hadm_id AND itemid = 226730\n",
    "WHERE ce.valuenum IS NOT NULL\n",
    "GROUP BY isp.hadm_id\n",
    ")\n",
    "\n",
    "SELECT dmg_weight.hadm_id, dmg_weight.weight, dmg_height.height\n",
    "FROM dmg_weight\n",
    "LEFT JOIN dmg_height ON dmg_weight.hadm_id = dmg_height.hadm_id\n",
    "ORDER BY dmg_weight.hadm_id\n",
    "\"\"\""
   ]
  },
  {
   "cell_type": "code",
   "execution_count": 10,
   "id": "1e0941f8-5fd3-4fc0-9bf2-ff9ca45633b7",
   "metadata": {},
   "outputs": [
    {
     "name": "stdout",
     "output_type": "stream",
     "text": [
      "Downloading: 100%|\u001b[32m██████████\u001b[0m|\n"
     ]
    }
   ],
   "source": [
    "df_wtht = run_query(query_wtht)\n",
    "df_isp_cohort=df_isp_cohort.merge(df_wtht, on='hadm_id', how='left')"
   ]
  },
  {
   "cell_type": "markdown",
   "id": "365e9e78-7085-4e3c-934b-5314f77a3b19",
   "metadata": {},
   "source": [
    "### ICU Stay\n",
    "* Length of Stay (sum_los)\n",
    "* ICU Stay Counts (n_stays)"
   ]
  },
  {
   "cell_type": "code",
   "execution_count": 11,
   "id": "9f6a8fdf-1b06-4aea-8e83-9a66016a725d",
   "metadata": {},
   "outputs": [],
   "source": [
    "query_los=f\"\"\"\n",
    "SELECT\n",
    "  icustays.hadm_id As hadm_id,\n",
    "  count(icustays.stay_id) As n_stays,\n",
    "  sum(icustays.los) As sum_los\n",
    "FROM\n",
    "`physionet-data.mimiciv_icu.icustays` AS icustays\n",
    "WHERE\n",
    "  subject_id IN UNNEST ({cohort_subject_ids}) AND\n",
    "  hadm_id IN UNNEST ({cohort_hadm_ids})\n",
    "GROUP BY\n",
    " \thadm_id\n",
    "ORDER BY\n",
    "  hadm_id\n",
    "\"\"\""
   ]
  },
  {
   "cell_type": "code",
   "execution_count": 12,
   "id": "ddca3dd1-3623-4f12-98e8-2c003d4d9e87",
   "metadata": {},
   "outputs": [
    {
     "name": "stdout",
     "output_type": "stream",
     "text": [
      "Downloading: 100%|\u001b[32m██████████\u001b[0m|\n"
     ]
    }
   ],
   "source": [
    "df_los = run_query(query_los)\n",
    "df_isp_cohort=df_isp_cohort.merge(df_los, on='hadm_id', how='left')"
   ]
  },
  {
   "cell_type": "markdown",
   "id": "7d9a49c1-2864-440e-9f39-b4965b502655",
   "metadata": {},
   "source": [
    "## 3.2 ICU Vital Signs"
   ]
  },
  {
   "cell_type": "markdown",
   "id": "3f87cfe0-415a-45be-b21b-486210be0f77",
   "metadata": {},
   "source": [
    "### **ICU Vital Signs (Statistics)**\n",
    "**References**:\n",
    "* https://intjem.biomedcentral.com/articles/10.1186/1865-1380-5-3\n",
    "* https://neurolrespract.biomedcentral.com/articles/10.1186/s42466-023-00238-8"
   ]
  },
  {
   "cell_type": "code",
   "execution_count": 13,
   "id": "a41dbc7d-a0ab-47d1-9336-c8ac5787c17f",
   "metadata": {},
   "outputs": [],
   "source": [
    "query_vs = f\"\"\"\n",
    "\n",
    "WITH vs_sbp AS (\n",
    "SELECT hadm_id, MAX(valuenum) AS sbp_max\n",
    "FROM physionet-data.mimiciv_icu.chartevents\n",
    "WHERE hadm_id IN UNNEST ({cohort_hadm_ids}) AND\n",
    "itemid IN (\n",
    "SELECT itemid\n",
    "FROM physionet-data.mimiciv_icu.d_items\n",
    "WHERE label LIKE '%Arterial Blood Pressure%'\n",
    ")\n",
    "GROUP BY hadm_id\n",
    "),\n",
    "\n",
    "vs_hr AS (\n",
    "SELECT hadm_id, AVG(valuenum) AS heart_rate_avg\n",
    "FROM physionet-data.mimiciv_icu.chartevents\n",
    "WHERE hadm_id IN UNNEST ({cohort_hadm_ids}) AND\n",
    "itemid IN (\n",
    "SELECT itemid\n",
    "FROM physionet-data.mimiciv_icu.d_items\n",
    "WHERE label LIKE '%Heart Rate%'\n",
    ")\n",
    "GROUP BY hadm_id\n",
    "ORDER BY hadm_id\n",
    "),\n",
    "\n",
    "vs_rr AS (\n",
    "SELECT  hadm_id, AVG(valuenum) AS respiratory_rate_avg\n",
    "FROM physionet-data.mimiciv_icu.chartevents\n",
    "WHERE hadm_id IN UNNEST ({cohort_hadm_ids}) AND\n",
    "itemid IN (\n",
    "SELECT itemid\n",
    "FROM physionet-data.mimiciv_icu.d_items\n",
    "WHERE label LIKE '%Respiratory Rate%'\n",
    ")\n",
    "GROUP BY hadm_id\n",
    "ORDER BY  hadm_id\n",
    "),\n",
    "\n",
    "vs_tmp AS(\n",
    "SELECT hadm_id, MAX(valuenum) AS rec_temperature_max_F\n",
    "FROM physionet-data.mimiciv_icu.chartevents\n",
    "WHERE hadm_id IN UNNEST ({cohort_hadm_ids}) AND\n",
    "itemid IN (\n",
    "SELECT itemid\n",
    "FROM physionet-data.mimiciv_icu.d_items\n",
    "WHERE label LIKE '%Temperature Fahrenheit%'\n",
    ")\n",
    "GROUP BY hadm_id\n",
    "ORDER BY hadm_id\n",
    ")\n",
    "\n",
    "SELECT vs_rr.hadm_id, vs_tmp.rec_temperature_max_F, vs_sbp.sbp_max, vs_hr.heart_rate_avg, vs_rr.respiratory_rate_avg\n",
    "FROM vs_rr\n",
    "LEFT JOIN vs_tmp ON vs_tmp.hadm_id = vs_rr.hadm_id\n",
    "LEFT JOIN vs_sbp ON vs_tmp.hadm_id = vs_sbp.hadm_id\n",
    "LEFT JOIN vs_hr ON vs_tmp.hadm_id = vs_hr.hadm_id\n",
    "ORDER BY vs_rr.hadm_id\n",
    "\n",
    "\"\"\""
   ]
  },
  {
   "cell_type": "code",
   "execution_count": 14,
   "id": "43b6a5b0-979a-4b38-a096-ebc0943b309a",
   "metadata": {},
   "outputs": [
    {
     "name": "stdout",
     "output_type": "stream",
     "text": [
      "Downloading: 100%|\u001b[32m██████████\u001b[0m|\n"
     ]
    }
   ],
   "source": [
    "df_vs = run_query(query_vs)\n",
    "df_isp_cohort=df_isp_cohort.merge(df_vs, on='hadm_id', how='left')"
   ]
  },
  {
   "cell_type": "markdown",
   "id": "ea109a19-3a8f-40a7-9d81-974fc1c4d6b7",
   "metadata": {},
   "source": [
    "## 3.3 Inflammatory Infections"
   ]
  },
  {
   "cell_type": "markdown",
   "id": "3bdccde3-a8e8-4576-b690-3757e3424668",
   "metadata": {},
   "source": [
    "### **Infections Biomarkers**"
   ]
  },
  {
   "cell_type": "markdown",
   "id": "f095dc68-5759-4aac-ab91-3b9fdae9fe6d",
   "metadata": {},
   "source": [
    "### WBC Count (White Blood Cell Counts)\n",
    "* Biomarker WBC counts consider all WBC lab test records for lacking number of a single WBC bomarker\n",
    "* This biomarker might not be sufficient for the cohort"
   ]
  },
  {
   "cell_type": "code",
   "execution_count": 15,
   "id": "dc41f3ab-ea19-4e5e-bd51-51586784a16d",
   "metadata": {},
   "outputs": [],
   "source": [
    "query_wbc = f\"\"\"\n",
    "SELECT  hadm_id, MAX(valuenum) AS wbc_count\n",
    "FROM physionet-data.mimiciv_hosp.labevents\n",
    "WHERE hadm_id IN UNNEST ({cohort_hadm_ids}) AND\n",
    "itemid IN (\n",
    "SELECT itemid\n",
    "FROM physionet-data.mimiciv_hosp.d_labitems\n",
    "WHERE LOWER(label) LIKE '%wbc%'\n",
    ")\n",
    "GROUP BY hadm_id\n",
    "ORDER BY  hadm_id\n",
    "\"\"\""
   ]
  },
  {
   "cell_type": "code",
   "execution_count": 16,
   "id": "e697ca3b-893d-4c3c-8b1e-939e2ea91181",
   "metadata": {},
   "outputs": [
    {
     "name": "stdout",
     "output_type": "stream",
     "text": [
      "Downloading: 100%|\u001b[32m██████████\u001b[0m|\n"
     ]
    }
   ],
   "source": [
    "df_wbc = run_query(query_wbc)\n",
    "df_isp_cohort=df_isp_cohort.merge(df_wbc, on='hadm_id', how='left')"
   ]
  },
  {
   "cell_type": "code",
   "execution_count": 17,
   "id": "2468c3f0-a243-4f0e-b6e1-fcc2508d0028",
   "metadata": {},
   "outputs": [],
   "source": [
    "query_lymphocyte = f\"\"\"\n",
    "SELECT hadm_id, AVG(valuenum) AS lymphocyte_percentage\n",
    "FROM physionet-data.mimiciv_hosp.labevents\n",
    "WHERE hadm_id IN UNNEST({cohort_hadm_ids}) AND\n",
    "      itemid IN (\n",
    "          SELECT itemid\n",
    "          FROM physionet-data.mimiciv_hosp.d_labitems\n",
    "          WHERE LOWER(label) LIKE '%lymphocyte%'\n",
    "      )\n",
    "GROUP BY hadm_id\n",
    "ORDER BY hadm_id\n",
    "\"\"\""
   ]
  },
  {
   "cell_type": "code",
   "execution_count": 18,
   "id": "f2fd632c-efde-4bce-b0b0-b2c3e5da512c",
   "metadata": {},
   "outputs": [
    {
     "name": "stdout",
     "output_type": "stream",
     "text": [
      "Downloading: 100%|\u001b[32m██████████\u001b[0m|\n"
     ]
    }
   ],
   "source": [
    "df_lymphocyte = run_query(query_lymphocyte)\n",
    "df_isp_cohort=df_isp_cohort.merge(df_lymphocyte, on='hadm_id', how='left')"
   ]
  },
  {
   "cell_type": "markdown",
   "id": "836c8423-b50e-4fcf-88d8-b213bac5e1dd",
   "metadata": {},
   "source": [
    "### RBC Count (Red Blood Cell Counts)"
   ]
  },
  {
   "cell_type": "code",
   "execution_count": 19,
   "id": "7b5a095a-aa2f-41a8-82d7-8ae7d3535d8e",
   "metadata": {},
   "outputs": [],
   "source": [
    "query_rbc = f\"\"\"\n",
    "SELECT  hadm_id, MAX(valuenum) AS rbc_count\n",
    "FROM physionet-data.mimiciv_hosp.labevents\n",
    "WHERE hadm_id IN UNNEST ({cohort_hadm_ids}) AND\n",
    "itemid IN (\n",
    "SELECT itemid\n",
    "FROM physionet-data.mimiciv_hosp.d_labitems\n",
    "WHERE LOWER(label) LIKE '%rbc%'\n",
    ")\n",
    "GROUP BY hadm_id\n",
    "ORDER BY  hadm_id\n",
    "\"\"\""
   ]
  },
  {
   "cell_type": "code",
   "execution_count": 20,
   "id": "3083dbe1-3ea1-4210-8423-f19f01883ad3",
   "metadata": {},
   "outputs": [
    {
     "name": "stdout",
     "output_type": "stream",
     "text": [
      "Downloading: 100%|\u001b[32m██████████\u001b[0m|\n"
     ]
    }
   ],
   "source": [
    "df_rbc = run_query(query_rbc)\n",
    "df_isp_cohort=df_isp_cohort.merge(df_rbc, on='hadm_id', how='left')"
   ]
  },
  {
   "cell_type": "markdown",
   "id": "042beb30-873c-4fb3-bfa7-0e17fda8e51d",
   "metadata": {},
   "source": [
    "### CRP Levels (C-Reactive Protein)\n",
    "* This biomarker records might be limited in terms of our cohort\n",
    "* Substitution could be **Fibrinogen**, **Lactate**, **Albumin**\n",
    "* Albumin and Fibrinogen might involve multiple subtypes of tests\n",
    "**References**: https://doi.org/10.5853/jos.2018.02369"
   ]
  },
  {
   "cell_type": "code",
   "execution_count": 21,
   "id": "15471084-2daf-4c06-95c7-c2e8d74418a8",
   "metadata": {},
   "outputs": [],
   "source": [
    "query_lactate = f\"\"\"\n",
    "SELECT  hadm_id, MAX(valuenum) AS lactate_level_max\n",
    "FROM physionet-data.mimiciv_hosp.labevents\n",
    "WHERE hadm_id IN UNNEST ({cohort_hadm_ids}) AND\n",
    "itemid IN (\n",
    "SELECT itemid\n",
    "FROM physionet-data.mimiciv_hosp.d_labitems\n",
    "WHERE LOWER(label) LIKE '%lactate%'\n",
    ")\n",
    "GROUP BY hadm_id\n",
    "ORDER BY hadm_id\n",
    "\"\"\""
   ]
  },
  {
   "cell_type": "code",
   "execution_count": 22,
   "id": "3c840ee4-dce3-4be5-8279-f31308df05dd",
   "metadata": {},
   "outputs": [
    {
     "name": "stdout",
     "output_type": "stream",
     "text": [
      "Downloading: 100%|\u001b[32m██████████\u001b[0m|\n"
     ]
    }
   ],
   "source": [
    "df_lactate = run_query(query_lactate)\n",
    "df_isp_cohort=df_isp_cohort.merge(df_lactate, on='hadm_id', how='left')"
   ]
  },
  {
   "cell_type": "code",
   "execution_count": 23,
   "id": "2f98ad3e-22b3-4bba-b792-2763d3364261",
   "metadata": {},
   "outputs": [],
   "source": [
    "query_alb = f\"\"\"\n",
    "SELECT hadm_id, MIN(valuenum) AS alb_level_min\n",
    "FROM physionet-data.mimiciv_hosp.labevents\n",
    "WHERE hadm_id IN UNNEST ({cohort_hadm_ids}) AND\n",
    "itemid IN (\n",
    "SELECT itemid\n",
    "FROM physionet-data.mimiciv_hosp.d_labitems\n",
    "WHERE LOWER(label) LIKE '%albumin%'\n",
    ")\n",
    "GROUP BY hadm_id\n",
    "ORDER BY hadm_id\n",
    "\"\"\""
   ]
  },
  {
   "cell_type": "code",
   "execution_count": 24,
   "id": "7d357402-cd0b-4508-ba56-6362d0065893",
   "metadata": {},
   "outputs": [
    {
     "name": "stdout",
     "output_type": "stream",
     "text": [
      "Downloading: 100%|\u001b[32m██████████\u001b[0m|\n"
     ]
    }
   ],
   "source": [
    "df_alb = run_query(query_alb)\n",
    "df_isp_cohort=df_isp_cohort.merge(df_alb, on='hadm_id', how='left')"
   ]
  },
  {
   "cell_type": "markdown",
   "id": "f2522e59-e57b-427c-989b-e094006eaa3d",
   "metadata": {},
   "source": [
    "## 3.4 Lab Test Results"
   ]
  },
  {
   "cell_type": "markdown",
   "id": "e4b19150-5d15-4ee8-9162-a64f6e895812",
   "metadata": {},
   "source": [
    "### Tropoin T Levels"
   ]
  },
  {
   "cell_type": "code",
   "execution_count": 25,
   "id": "ff4d2ad4-9b47-4341-815c-3d7ddd71506f",
   "metadata": {},
   "outputs": [],
   "source": [
    "query_trt = f\"\"\"\n",
    "SELECT hadm_id, MAX(valuenum) AS trt_max\n",
    "FROM physionet-data.mimiciv_hosp.labevents\n",
    "WHERE hadm_id IN UNNEST ({cohort_hadm_ids}) AND\n",
    "itemid IN (\n",
    "SELECT itemid\n",
    "FROM physionet-data.mimiciv_hosp.d_labitems\n",
    "WHERE LOWER(label) LIKE '%troponin t%'\n",
    ")\n",
    "GROUP BY hadm_id\n",
    "ORDER BY hadm_id\n",
    "\"\"\""
   ]
  },
  {
   "cell_type": "code",
   "execution_count": 26,
   "id": "5935cdd6-481d-465b-96b8-6564fa8c43e7",
   "metadata": {},
   "outputs": [
    {
     "name": "stdout",
     "output_type": "stream",
     "text": [
      "Downloading: 100%|\u001b[32m██████████\u001b[0m|\n"
     ]
    }
   ],
   "source": [
    "df_trt = run_query(query_trt)\n",
    "df_isp_cohort=df_isp_cohort.merge(df_trt, on='hadm_id', how='left')"
   ]
  },
  {
   "cell_type": "markdown",
   "id": "f3033cba-f09d-4542-8f32-d5e878291852",
   "metadata": {},
   "source": [
    "### Glucose Level (Hyperglycemia)\n",
    "* Use count of abnormal glucose test results (very high or very low)."
   ]
  },
  {
   "cell_type": "code",
   "execution_count": 27,
   "id": "de493e8a-ea8e-4c66-8327-ec09ad76134f",
   "metadata": {},
   "outputs": [],
   "source": [
    "query_glucose = f\"\"\"\n",
    "SELECT hadm_id,\n",
    "       (SUM(CASE WHEN valuenum > 180 THEN 1 ELSE 0 END)+SUM(CASE WHEN valuenum < 70 THEN 1 ELSE 0 END)) AS glucose_extreme_count\n",
    "FROM physionet-data.mimiciv_hosp.labevents\n",
    "WHERE hadm_id IN UNNEST({cohort_hadm_ids}) AND\n",
    "      itemid IN (\n",
    "          SELECT itemid\n",
    "          FROM physionet-data.mimiciv_hosp.d_labitems\n",
    "          WHERE LOWER(label) LIKE '%glucose%'\n",
    "      )\n",
    "GROUP BY hadm_id\n",
    "ORDER BY hadm_id\n",
    "\"\"\""
   ]
  },
  {
   "cell_type": "code",
   "execution_count": 28,
   "id": "895ed188-3737-4a02-b228-549655cfd412",
   "metadata": {},
   "outputs": [
    {
     "name": "stdout",
     "output_type": "stream",
     "text": [
      "Downloading: 100%|\u001b[32m██████████\u001b[0m|\n"
     ]
    }
   ],
   "source": [
    "# Run the query to get the glucose data\n",
    "df_glucose = run_query(query_glucose)\n",
    "df_isp_cohort=df_isp_cohort.merge(df_glucose, on='hadm_id', how='left')"
   ]
  },
  {
   "cell_type": "markdown",
   "id": "c264308e-fb74-44cd-9a1e-c406867d7653",
   "metadata": {},
   "source": [
    "### Sodium Level (Hypernatremia)\n",
    "* Same statistic with Glucose"
   ]
  },
  {
   "cell_type": "code",
   "execution_count": 29,
   "id": "b8fa3478-1339-4a69-80a4-9f7b13125804",
   "metadata": {},
   "outputs": [],
   "source": [
    "query_sodium = f\"\"\"\n",
    "SELECT hadm_id,\n",
    "       (SUM(CASE WHEN valuenum > 145 THEN 1 ELSE 0 END)+SUM(CASE WHEN valuenum < 135 THEN 1 ELSE 0 END)) AS sodium_extreme_count\n",
    "FROM physionet-data.mimiciv_hosp.labevents\n",
    "WHERE hadm_id IN UNNEST({cohort_hadm_ids}) AND\n",
    "      itemid IN (\n",
    "          SELECT itemid\n",
    "          FROM physionet-data.mimiciv_hosp.d_labitems\n",
    "          WHERE LOWER(label) LIKE '%sodium%'\n",
    "      )\n",
    "GROUP BY hadm_id\n",
    "ORDER BY hadm_id\n",
    "\"\"\""
   ]
  },
  {
   "cell_type": "code",
   "execution_count": 30,
   "id": "33173e8d-2571-422b-b243-f9ef38377a31",
   "metadata": {},
   "outputs": [
    {
     "name": "stdout",
     "output_type": "stream",
     "text": [
      "Downloading: 100%|\u001b[32m██████████\u001b[0m|\n"
     ]
    }
   ],
   "source": [
    "# Run the query to get the sodium data\n",
    "df_sodium = run_query(query_sodium)\n",
    "df_isp_cohort=df_isp_cohort.merge(df_sodium, on='hadm_id', how='left')"
   ]
  },
  {
   "cell_type": "markdown",
   "id": "c1f8fe1b-ca7d-4fe3-9e8e-60f8b1992cc6",
   "metadata": {},
   "source": [
    "## 3.5 Comorbidities"
   ]
  },
  {
   "cell_type": "code",
   "execution_count": 31,
   "id": "f3d2243b-f981-40a4-a2a5-03cd505e4965",
   "metadata": {},
   "outputs": [],
   "source": [
    "query_hpt = f\"\"\"\n",
    "SELECT hadm_id,\n",
    "CASE WHEN COUNT(icd_code) > 0 THEN 1 ELSE 0 END AS has_hypertension\n",
    "FROM physionet-data.mimiciv_hosp.diagnoses_icd\n",
    "WHERE hadm_id IN UNNEST ({cohort_hadm_ids}) AND\n",
    "icd_code IN (\n",
    "SELECT icd_code\n",
    "FROM physionet-data.mimiciv_hosp.d_icd_diagnoses\n",
    "WHERE LOWER(long_title) LIKE '%hypertension%'\n",
    ")\n",
    "GROUP BY  hadm_id\n",
    "ORDER BY  hadm_id\n",
    "\"\"\""
   ]
  },
  {
   "cell_type": "code",
   "execution_count": 32,
   "id": "f6b69325-9e70-4f0f-9a39-11a0bcfca4b5",
   "metadata": {},
   "outputs": [
    {
     "name": "stdout",
     "output_type": "stream",
     "text": [
      "Downloading: 100%|\u001b[32m██████████\u001b[0m|\n"
     ]
    }
   ],
   "source": [
    "df_hpt = run_query(query_hpt)\n",
    "df_isp_cohort=df_isp_cohort.merge(df_hpt, on='hadm_id', how='left')\n",
    "df_isp_cohort['has_hypertension'] = df_isp_cohort['has_hypertension'].fillna(0).astype(int)"
   ]
  },
  {
   "cell_type": "code",
   "execution_count": 33,
   "id": "9c9c63b0-c094-4b5f-9602-58c7450da09b",
   "metadata": {},
   "outputs": [],
   "source": [
    "query_dbt = f\"\"\"\n",
    "SELECT hadm_id,\n",
    "CASE WHEN COUNT(icd_code) > 0 THEN 1 ELSE 0 END AS has_diabetes\n",
    "FROM physionet-data.mimiciv_hosp.diagnoses_icd\n",
    "WHERE hadm_id IN UNNEST ({cohort_hadm_ids}) AND\n",
    "icd_code IN (\n",
    "SELECT icd_code\n",
    "FROM physionet-data.mimiciv_hosp.d_icd_diagnoses\n",
    "WHERE LOWER(long_title) LIKE '%diabetes%' OR LOWER(long_title) LIKE '%type 2 diabetes%'\n",
    ")\n",
    "GROUP BY  hadm_id\n",
    "ORDER BY  hadm_id\n",
    "\"\"\""
   ]
  },
  {
   "cell_type": "code",
   "execution_count": 34,
   "id": "fb3067cf-55c4-4b68-8ae4-6793a30fc6c0",
   "metadata": {},
   "outputs": [
    {
     "name": "stdout",
     "output_type": "stream",
     "text": [
      "Downloading: 100%|\u001b[32m██████████\u001b[0m|\n"
     ]
    }
   ],
   "source": [
    "df_dbt = run_query(query_dbt)\n",
    "df_isp_cohort=df_isp_cohort.merge(df_dbt, on='hadm_id', how='left')\n",
    "df_isp_cohort['has_diabetes'] = df_isp_cohort['has_diabetes'].fillna(0).astype(int)"
   ]
  },
  {
   "cell_type": "markdown",
   "id": "344523c8-1230-4a6a-8572-366923c43f16",
   "metadata": {},
   "source": [
    "### Atrial Fibrillation"
   ]
  },
  {
   "cell_type": "code",
   "execution_count": 35,
   "id": "d276844d-f300-4d09-8e2a-8c05305fcf46",
   "metadata": {},
   "outputs": [],
   "source": [
    "query_af = f\"\"\"\n",
    "SELECT hadm_id,\n",
    "CASE WHEN COUNT(icd_code) > 0 THEN 1 ELSE 0 END AS has_af\n",
    "FROM physionet-data.mimiciv_hosp.diagnoses_icd\n",
    "WHERE hadm_id IN UNNEST ({cohort_hadm_ids}) AND\n",
    "icd_code IN (\n",
    "SELECT icd_code\n",
    "FROM physionet-data.mimiciv_hosp.d_icd_diagnoses\n",
    "WHERE LOWER(long_title) LIKE '%atrial fibrillation%' OR LOWER(long_title) LIKE '%atrial flutter%'\n",
    ")\n",
    "GROUP BY  hadm_id\n",
    "ORDER BY  hadm_id\n",
    "\"\"\""
   ]
  },
  {
   "cell_type": "code",
   "execution_count": 36,
   "id": "7f79745d-832a-465d-a141-62faf750bf0c",
   "metadata": {},
   "outputs": [
    {
     "name": "stdout",
     "output_type": "stream",
     "text": [
      "Downloading: 100%|\u001b[32m██████████\u001b[0m|\n"
     ]
    }
   ],
   "source": [
    "df_af = run_query(query_af)\n",
    "df_isp_cohort=df_isp_cohort.merge(df_af, on='hadm_id', how='left')\n",
    "df_isp_cohort['has_af'] = df_isp_cohort['has_af'].fillna(0).astype(int)"
   ]
  },
  {
   "cell_type": "markdown",
   "id": "cac762da-a26f-40d3-8d4d-d742754fabe7",
   "metadata": {},
   "source": [
    "### Comorbidity Score\n",
    "* charlson_comorbidity_index"
   ]
  },
  {
   "cell_type": "code",
   "execution_count": 37,
   "id": "0e84d659-5317-4e1c-8c63-4b7d232b29c9",
   "metadata": {},
   "outputs": [],
   "source": [
    "query_cs = f\"\"\"\n",
    "WITH\n",
    "comorbidity_weights AS (\n",
    "    SELECT 'I10' AS icd_code, 1 AS weight  -- Hypertension\n",
    "    UNION ALL\n",
    "    SELECT 'I21', 1  -- Myocardial Infarction (ICD-10)\n",
    "    UNION ALL\n",
    "    SELECT '410', 1  -- Myocardial Infarction (ICD-9)\n",
    "    UNION ALL\n",
    "    SELECT 'I50', 2  -- Congestive Heart Failure (ICD-10)\n",
    "    UNION ALL\n",
    "    SELECT '428', 2  -- Congestive Heart Failure (ICD-9)\n",
    "    UNION ALL\n",
    "    SELECT 'E10', 1  -- Diabetes without complications (ICD-10)\n",
    "    UNION ALL\n",
    "    SELECT '250', 1  -- Diabetes without complications (ICD-9)\n",
    "    UNION ALL\n",
    "    SELECT 'E11', 2  -- Diabetes with complications (ICD-10)\n",
    "    UNION ALL\n",
    "    SELECT 'N18', 2  -- Chronic Kidney Disease (ICD-10)\n",
    "    UNION ALL\n",
    "    SELECT '585', 2  -- Chronic Kidney Disease (ICD-9)\n",
    "    UNION ALL\n",
    "    SELECT 'C34', 2  -- Malignant Neoplasm of Lung (ICD-10)\n",
    "    UNION ALL\n",
    "    SELECT '162', 2  -- Malignant Neoplasm of Lung (ICD-9)\n",
    "    UNION ALL\n",
    "    SELECT 'B20', 6  -- HIV/AIDS\n",
    "    UNION ALL\n",
    "    SELECT 'I25', 1  -- Coronary Artery Disease (ICD-10)\n",
    "    UNION ALL\n",
    "    SELECT '414', 1  -- Coronary Artery Disease (ICD-9)\n",
    "    UNION ALL\n",
    "    SELECT 'K70', 3  -- Liver Disease (ICD-10)\n",
    "    UNION ALL\n",
    "    SELECT 'K74', 3  -- Liver Disease (ICD-10)\n",
    "    UNION ALL\n",
    "    SELECT 'J44', 1  -- COPD (ICD-10)\n",
    "    UNION ALL\n",
    "    SELECT '496', 1  -- COPD (ICD-9)\n",
    "    UNION ALL\n",
    "    SELECT 'C50', 2  -- Malignant Neoplasm of Breast (ICD-10)\n",
    "    UNION ALL\n",
    "    SELECT '174', 2  -- Malignant Neoplasm of Breast (ICD-9)\n",
    "    UNION ALL\n",
    "    SELECT 'F01', 3  -- Dementia (ICD-10)\n",
    "    UNION ALL\n",
    "    SELECT 'F03', 3  -- Dementia (ICD-10)\n",
    "    UNION ALL\n",
    "    SELECT 'I48', 1  -- Atrial Fibrillation (ICD-10)\n",
    ")\n",
    "\n",
    "-- Calculate Charlson Comorbidity Index for each patient in the cohort\n",
    "SELECT\n",
    "       di.hadm_id,\n",
    "       SUM(COALESCE(cw.weight, 0)) AS charlson_comorbidity_index\n",
    "FROM physionet-data.mimiciv_hosp.diagnoses_icd di\n",
    "LEFT JOIN comorbidity_weights cw\n",
    "    ON di.icd_code = cw.icd_code\n",
    "WHERE hadm_id IN UNNEST ({cohort_hadm_ids})\n",
    "GROUP BY di.hadm_id\n",
    "ORDER BY di.hadm_id;\n",
    "\n",
    "\"\"\""
   ]
  },
  {
   "cell_type": "code",
   "execution_count": 38,
   "id": "d8ba766d-a2ab-46e2-bc1a-069117996824",
   "metadata": {},
   "outputs": [
    {
     "name": "stdout",
     "output_type": "stream",
     "text": [
      "Downloading: 100%|\u001b[32m██████████\u001b[0m|\n"
     ]
    }
   ],
   "source": [
    "df_cs = run_query(query_cs)\n",
    "df_isp_cohort=df_isp_cohort.merge(df_cs, on='hadm_id', how='left')"
   ]
  },
  {
   "cell_type": "code",
   "execution_count": 39,
   "id": "e92082fe-07e4-4b83-b905-3a36116533ff",
   "metadata": {},
   "outputs": [],
   "source": [
    "dataX=df_isp_cohort.copy()"
   ]
  },
  {
   "cell_type": "markdown",
   "id": "4d792c19-9f52-4f9c-8bf8-fc3bc1437dc5",
   "metadata": {},
   "source": [
    "## 3.6 Admission Type"
   ]
  },
  {
   "cell_type": "markdown",
   "id": "244cf205-b225-42a2-9b6f-d90a16100b31",
   "metadata": {},
   "source": [
    "### **Unique admission: Records with readmission**\n",
    "* Treat each hadm_id as an indivdual (a sample), we get 6581 records stored in *full_cohort*, 1944 out of which get readmitted."
   ]
  },
  {
   "cell_type": "code",
   "execution_count": 40,
   "id": "88a3eecc-7226-4728-9276-dec779fc813d",
   "metadata": {},
   "outputs": [],
   "source": [
    "query_sp = f\"\"\"\n",
    "WITH stroke_patients AS (\n",
    "  SELECT DISTINCT di.subject_id, di.hadm_id\n",
    "  FROM physionet-data.mimiciv_hosp.diagnoses_icd di\n",
    "  WHERE di.icd_version = 9 \n",
    "    AND (di.icd_code LIKE '433%' OR di.icd_code LIKE '434%')\n",
    ")\n",
    "\n",
    "SELECT sp.subject_id, sp.hadm_id\n",
    "FROM stroke_patients sp\n",
    "ORDER BY sp.subject_id, sp.hadm_id\n",
    "\"\"\""
   ]
  },
  {
   "cell_type": "code",
   "execution_count": 41,
   "id": "e5f51a22-02ac-4328-a4e0-4278c2f25423",
   "metadata": {},
   "outputs": [
    {
     "name": "stdout",
     "output_type": "stream",
     "text": [
      "Downloading: 100%|\u001b[32m██████████\u001b[0m|\n"
     ]
    }
   ],
   "source": [
    "df_sp=run_query(query_sp)"
   ]
  },
  {
   "cell_type": "code",
   "execution_count": 42,
   "id": "7eaf5ae5-706a-4933-a8a5-533ebf8ac23a",
   "metadata": {},
   "outputs": [],
   "source": [
    "# subject_id and admission_id lists\n",
    "sp_subject_ids = list(df_sp['subject_id'].unique())\n",
    "sp_cohort_subject_ids = \"[\" + \", \".join(str(id) for id in sp_subject_ids) + \"]\"\n",
    "#print(len(subject_ids))\n",
    "\n",
    "sp_hadm_ids=list(df_sp['hadm_id'].unique())\n",
    "sp_cohort_hadm_ids = \"[\" + \", \".join(str(id) for id in sp_hadm_ids) + \"]\""
   ]
  },
  {
   "cell_type": "code",
   "execution_count": 43,
   "id": "4f81c233",
   "metadata": {},
   "outputs": [],
   "source": [
    "query_date=f\"\"\"\n",
    "SELECT\n",
    "    subject_id,\n",
    "    hadm_id,\n",
    "    admittime\n",
    "FROM physionet-data.mimiciv_hosp.admissions\n",
    "WHERE hadm_id IN UNNEST ({sp_cohort_hadm_ids});\n",
    "\"\"\""
   ]
  },
  {
   "cell_type": "code",
   "execution_count": 44,
   "id": "97397501-20af-41c2-85e3-63ddff3f8be4",
   "metadata": {},
   "outputs": [
    {
     "name": "stdout",
     "output_type": "stream",
     "text": [
      "Downloading: 100%|\u001b[32m██████████\u001b[0m|\n"
     ]
    }
   ],
   "source": [
    "df_isp_date=run_query(query_date)"
   ]
  },
  {
   "cell_type": "code",
   "execution_count": 45,
   "id": "be3208b2",
   "metadata": {},
   "outputs": [],
   "source": [
    "df_isp_date['admittime'] = pd.to_datetime(df_isp_date['admittime'])\n",
    "\n",
    "merged_df = dataX.merge(df_isp_date, \n",
    "                        on=['subject_id', 'hadm_id'], \n",
    "                        how='left')\n",
    "\n",
    "merged_df['discharge_date'] = merged_df['admittime'] + pd.to_timedelta(merged_df['sum_los'], unit='D')\n",
    "\n",
    "readmissions = merged_df.merge(\n",
    "    df_isp_date,\n",
    "    on='subject_id',\n",
    "    suffixes=('', '_next')\n",
    ")\n",
    "\n",
    "readmissions = readmissions[\n",
    "    (readmissions['hadm_id'] != readmissions['hadm_id_next']) &\n",
    "    (readmissions['admittime_next'] > readmissions['discharge_date']) &\n",
    "    (readmissions['admittime_next'] <= readmissions['discharge_date'] + pd.Timedelta(days=365))\n",
    "]\n",
    "\n",
    "readmissions = readmissions[['subject_id', 'hadm_id']]"
   ]
  },
  {
   "cell_type": "code",
   "execution_count": 46,
   "id": "1a7434f0",
   "metadata": {},
   "outputs": [],
   "source": [
    "class1 = dataX.merge(readmissions[['subject_id', 'hadm_id']], on=['subject_id', 'hadm_id'], how='inner')\n",
    "class1['has_readmission'] = 1  # Set has_readmission to 1"
   ]
  },
  {
   "cell_type": "code",
   "execution_count": 47,
   "id": "6198f093",
   "metadata": {},
   "outputs": [],
   "source": [
    "no_readmission_subject_ids = df_sp['subject_id'].value_counts()[lambda x: x == 1].index\n",
    "filtered_dataX_no_readmission = dataX[dataX['subject_id'].isin(no_readmission_subject_ids)]"
   ]
  },
  {
   "cell_type": "code",
   "execution_count": 48,
   "id": "77d3fbeb",
   "metadata": {},
   "outputs": [],
   "source": [
    "filtered_dataX_no_readmission = filtered_dataX_no_readmission.copy()\n",
    "\n",
    "# Calculate the number of null values in each row\n",
    "filtered_dataX_no_readmission['null_count'] = filtered_dataX_no_readmission.isnull().sum(axis=1)\n",
    "\n",
    "# Sort the DataFrame by 'null_count' in ascending order\n",
    "df_least_nulls = filtered_dataX_no_readmission.sort_values(by='null_count')#.head(891)\n",
    "\n",
    "# Drop the 'null_count' column if no longer needed\n",
    "df_least_nulls = df_least_nulls.drop(columns=['null_count'])\n",
    "\n",
    "# Create a copy for class0 and set 'has_readmission' to 0\n",
    "class0 = df_least_nulls.copy()\n",
    "class0['has_readmission'] = 0  # Set has_readmission to 0\n"
   ]
  },
  {
   "cell_type": "code",
   "execution_count": 49,
   "id": "b440dcd3",
   "metadata": {},
   "outputs": [],
   "source": [
    "data = pd.concat([class1, class0], ignore_index=True)"
   ]
  },
  {
   "cell_type": "code",
   "execution_count": null,
   "id": "6e74828f",
   "metadata": {},
   "outputs": [],
   "source": []
  }
 ],
 "metadata": {
  "kernelspec": {
   "display_name": "comp90089",
   "language": "python",
   "name": "python3"
  },
  "language_info": {
   "codemirror_mode": {
    "name": "ipython",
    "version": 3
   },
   "file_extension": ".py",
   "mimetype": "text/x-python",
   "name": "python",
   "nbconvert_exporter": "python",
   "pygments_lexer": "ipython3",
   "version": "3.11.7"
  }
 },
 "nbformat": 4,
 "nbformat_minor": 5
}
